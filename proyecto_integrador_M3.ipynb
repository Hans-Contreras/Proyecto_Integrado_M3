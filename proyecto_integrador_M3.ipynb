{
 "cells": [
  {
   "cell_type": "markdown",
   "id": "00bac0bf",
   "metadata": {},
   "source": [
    "# Lección 1: NumPy - Generación de Datos"
   ]
  },
  {
   "cell_type": "code",
   "id": "95d03bb0",
   "metadata": {
    "ExecuteTime": {
     "end_time": "2025-07-06T19:17:45.424709Z",
     "start_time": "2025-07-06T19:17:45.356781Z"
    }
   },
   "source": [
    "import numpy as np\n",
    "\n",
    "np.random.seed(42)\n",
    "clientes = np.arange(100, 200)\n",
    "transacciones = np.random.randint(1, 20, size=100)\n",
    "montos = np.random.normal(loc=50000, scale=15000, size=100).round(2)\n",
    "\n",
    "print(\"Monto promedio:\", np.mean(montos))\n",
    "print(\"Total transacciones:\", np.sum(transacciones))\n",
    "\n",
    "np.save(\"clientes.npy\", clientes)\n",
    "np.save(\"transacciones.npy\", transacciones)\n",
    "np.save(\"montos.npy\", montos)"
   ],
   "outputs": [
    {
     "name": "stdout",
     "output_type": "stream",
     "text": [
      "Monto promedio: 50801.509000000005\n",
      "Total transacciones: 964\n"
     ]
    }
   ],
   "execution_count": 1
  },
  {
   "cell_type": "markdown",
   "id": "4a062f03",
   "metadata": {},
   "source": [
    "# Lección 2: Pandas - Exploración de Datos"
   ]
  },
  {
   "cell_type": "code",
   "id": "b933148f",
   "metadata": {
    "ExecuteTime": {
     "end_time": "2025-07-06T19:17:48.904071Z",
     "start_time": "2025-07-06T19:17:48.625661Z"
    }
   },
   "source": [
    "import pandas as pd\n",
    "\n",
    "clientes = np.load(\"clientes.npy\")\n",
    "transacciones = np.load(\"transacciones.npy\")\n",
    "montos = np.load(\"montos.npy\")\n",
    "\n",
    "df = pd.DataFrame({\n",
    "    \"cliente_id\": clientes,\n",
    "    \"transacciones\": transacciones,\n",
    "    \"monto_total\": montos\n",
    "})\n",
    "\n",
    "print(df.head())\n",
    "print(df.describe())\n",
    "print(df[df[\"monto_total\"] > 70000])\n",
    "\n",
    "df.to_csv(\"datos_clientes.csv\", index=False)"
   ],
   "outputs": [
    {
     "name": "stdout",
     "output_type": "stream",
     "text": [
      "   cliente_id  transacciones  monto_total\n",
      "0         100              7     56868.28\n",
      "1         101             15     24735.69\n",
      "2         102             11     54902.68\n",
      "3         103              8     48783.22\n",
      "4         104              7     57016.92\n",
      "       cliente_id  transacciones   monto_total\n",
      "count  100.000000     100.000000    100.000000\n",
      "mean   149.500000       9.640000  50801.509000\n",
      "std     29.011492       5.296311  14934.313948\n",
      "min    100.000000       1.000000  20901.330000\n",
      "25%    124.750000       5.000000  39036.797500\n",
      "50%    149.500000       9.000000  49870.225000\n",
      "75%    174.250000      14.000000  61944.390000\n",
      "max    199.000000      19.000000  94154.950000\n",
      "    cliente_id  transacciones  monto_total\n",
      "12         112             12     89502.92\n",
      "17         117             12     84308.39\n",
      "18         118             17     74343.81\n",
      "37         137             15     94154.95\n",
      "55         155              2     79618.57\n",
      "56         156             10     79475.52\n",
      "63         163              8     71019.82\n",
      "99         199              8     76828.91\n"
     ]
    }
   ],
   "execution_count": 2
  },
  {
   "cell_type": "markdown",
   "id": "1866322b",
   "metadata": {},
   "source": [
    "# Lección 3: Carga de Datos desde Archivos"
   ]
  },
  {
   "cell_type": "code",
   "id": "3038da1c",
   "metadata": {
    "ExecuteTime": {
     "end_time": "2025-07-06T19:18:54.544918Z",
     "start_time": "2025-07-06T19:18:53.549358Z"
    }
   },
   "source": [
    "df_csv = pd.read_csv(\"clientes_ecommerce.csv\")\n",
    "df_excel = pd.read_excel(\"clientes_ecommerce.xlsx\")\n",
    "\n",
    "# Usamos la tabla web de ejemplo\n",
    "df_web = pd.read_html(\"https://es.wikipedia.org/wiki/Anexo:Comunas_de_Chile\")[0]\n",
    "\n",
    "df_merged = pd.concat([df_csv, df_excel], ignore_index=True)\n",
    "df_merged.to_csv(\"dataset_unificado.csv\", index=False)\n",
    "df_merged.head()"
   ],
   "outputs": [
    {
     "data": {
      "text/plain": [
       "   ID  Nombre  Edad        Ciudad  Total_Compras  Monto_Total\n",
       "0   1     Ana  25.0  Buenos Aires              5         2500\n",
       "1   2    Luis  34.0       Córdoba              2         1200\n",
       "2   3  Carlos  45.0       Rosario              0            0\n",
       "3   4   Marta  29.0       Mendoza              3         1800\n",
       "4   5   Jorge  31.0      La Plata              8         3200"
      ],
      "text/html": [
       "<div>\n",
       "<style scoped>\n",
       "    .dataframe tbody tr th:only-of-type {\n",
       "        vertical-align: middle;\n",
       "    }\n",
       "\n",
       "    .dataframe tbody tr th {\n",
       "        vertical-align: top;\n",
       "    }\n",
       "\n",
       "    .dataframe thead th {\n",
       "        text-align: right;\n",
       "    }\n",
       "</style>\n",
       "<table border=\"1\" class=\"dataframe\">\n",
       "  <thead>\n",
       "    <tr style=\"text-align: right;\">\n",
       "      <th></th>\n",
       "      <th>ID</th>\n",
       "      <th>Nombre</th>\n",
       "      <th>Edad</th>\n",
       "      <th>Ciudad</th>\n",
       "      <th>Total_Compras</th>\n",
       "      <th>Monto_Total</th>\n",
       "    </tr>\n",
       "  </thead>\n",
       "  <tbody>\n",
       "    <tr>\n",
       "      <th>0</th>\n",
       "      <td>1</td>\n",
       "      <td>Ana</td>\n",
       "      <td>25.0</td>\n",
       "      <td>Buenos Aires</td>\n",
       "      <td>5</td>\n",
       "      <td>2500</td>\n",
       "    </tr>\n",
       "    <tr>\n",
       "      <th>1</th>\n",
       "      <td>2</td>\n",
       "      <td>Luis</td>\n",
       "      <td>34.0</td>\n",
       "      <td>Córdoba</td>\n",
       "      <td>2</td>\n",
       "      <td>1200</td>\n",
       "    </tr>\n",
       "    <tr>\n",
       "      <th>2</th>\n",
       "      <td>3</td>\n",
       "      <td>Carlos</td>\n",
       "      <td>45.0</td>\n",
       "      <td>Rosario</td>\n",
       "      <td>0</td>\n",
       "      <td>0</td>\n",
       "    </tr>\n",
       "    <tr>\n",
       "      <th>3</th>\n",
       "      <td>4</td>\n",
       "      <td>Marta</td>\n",
       "      <td>29.0</td>\n",
       "      <td>Mendoza</td>\n",
       "      <td>3</td>\n",
       "      <td>1800</td>\n",
       "    </tr>\n",
       "    <tr>\n",
       "      <th>4</th>\n",
       "      <td>5</td>\n",
       "      <td>Jorge</td>\n",
       "      <td>31.0</td>\n",
       "      <td>La Plata</td>\n",
       "      <td>8</td>\n",
       "      <td>3200</td>\n",
       "    </tr>\n",
       "  </tbody>\n",
       "</table>\n",
       "</div>"
      ]
     },
     "execution_count": 5,
     "metadata": {},
     "output_type": "execute_result"
    }
   ],
   "execution_count": 5
  },
  {
   "cell_type": "markdown",
   "id": "b8f7b3bf",
   "metadata": {},
   "source": [
    "# Lección 4: Manejo de Valores Nulos y Outliers"
   ]
  },
  {
   "cell_type": "code",
   "id": "25f490cd",
   "metadata": {
    "ExecuteTime": {
     "end_time": "2025-07-06T19:20:31.899110Z",
     "start_time": "2025-07-06T19:20:31.886782Z"
    }
   },
   "source": [
    "from scipy import stats\n",
    "\n",
    "print(df_merged.isnull().sum())\n",
    "#df_merged[\"Monto_Total\"].fillna(df_merged[\"Monto_Total\"].mean(), inplace=True)\n",
    "df_merged.fillna({\"Monto_Total\": df_merged[\"Monto_Total\"].mean()}, inplace=True)\n",
    "\n",
    "z_scores = np.abs(stats.zscore(df_merged[[\"Monto_Total\"]]))\n",
    "df_limpio = df_merged[(z_scores < 3).all(axis=1)]\n",
    "\n",
    "df_limpio.to_csv(\"dataset_limpio.csv\", index=False)\n",
    "df_limpio.describe()"
   ],
   "outputs": [
    {
     "name": "stdout",
     "output_type": "stream",
     "text": [
      "ID               0\n",
      "Nombre           0\n",
      "Edad             2\n",
      "Ciudad           0\n",
      "Total_Compras    0\n",
      "Monto_Total      0\n",
      "dtype: int64\n"
     ]
    },
    {
     "data": {
      "text/plain": [
       "              ID      Edad  Total_Compras  Monto_Total\n",
       "count  20.000000  18.00000      20.000000    20.000000\n",
       "mean    5.500000  33.00000       4.600000  2155.000000\n",
       "std     2.946898   6.36165       3.118704  1285.639304\n",
       "min     1.000000  25.00000       0.000000     0.000000\n",
       "25%     3.000000  29.00000       2.000000  1200.000000\n",
       "50%     5.500000  31.00000       4.500000  2300.000000\n",
       "75%     8.000000  34.00000       7.000000  3200.000000\n",
       "max    10.000000  45.00000      10.000000  4100.000000"
      ],
      "text/html": [
       "<div>\n",
       "<style scoped>\n",
       "    .dataframe tbody tr th:only-of-type {\n",
       "        vertical-align: middle;\n",
       "    }\n",
       "\n",
       "    .dataframe tbody tr th {\n",
       "        vertical-align: top;\n",
       "    }\n",
       "\n",
       "    .dataframe thead th {\n",
       "        text-align: right;\n",
       "    }\n",
       "</style>\n",
       "<table border=\"1\" class=\"dataframe\">\n",
       "  <thead>\n",
       "    <tr style=\"text-align: right;\">\n",
       "      <th></th>\n",
       "      <th>ID</th>\n",
       "      <th>Edad</th>\n",
       "      <th>Total_Compras</th>\n",
       "      <th>Monto_Total</th>\n",
       "    </tr>\n",
       "  </thead>\n",
       "  <tbody>\n",
       "    <tr>\n",
       "      <th>count</th>\n",
       "      <td>20.000000</td>\n",
       "      <td>18.00000</td>\n",
       "      <td>20.000000</td>\n",
       "      <td>20.000000</td>\n",
       "    </tr>\n",
       "    <tr>\n",
       "      <th>mean</th>\n",
       "      <td>5.500000</td>\n",
       "      <td>33.00000</td>\n",
       "      <td>4.600000</td>\n",
       "      <td>2155.000000</td>\n",
       "    </tr>\n",
       "    <tr>\n",
       "      <th>std</th>\n",
       "      <td>2.946898</td>\n",
       "      <td>6.36165</td>\n",
       "      <td>3.118704</td>\n",
       "      <td>1285.639304</td>\n",
       "    </tr>\n",
       "    <tr>\n",
       "      <th>min</th>\n",
       "      <td>1.000000</td>\n",
       "      <td>25.00000</td>\n",
       "      <td>0.000000</td>\n",
       "      <td>0.000000</td>\n",
       "    </tr>\n",
       "    <tr>\n",
       "      <th>25%</th>\n",
       "      <td>3.000000</td>\n",
       "      <td>29.00000</td>\n",
       "      <td>2.000000</td>\n",
       "      <td>1200.000000</td>\n",
       "    </tr>\n",
       "    <tr>\n",
       "      <th>50%</th>\n",
       "      <td>5.500000</td>\n",
       "      <td>31.00000</td>\n",
       "      <td>4.500000</td>\n",
       "      <td>2300.000000</td>\n",
       "    </tr>\n",
       "    <tr>\n",
       "      <th>75%</th>\n",
       "      <td>8.000000</td>\n",
       "      <td>34.00000</td>\n",
       "      <td>7.000000</td>\n",
       "      <td>3200.000000</td>\n",
       "    </tr>\n",
       "    <tr>\n",
       "      <th>max</th>\n",
       "      <td>10.000000</td>\n",
       "      <td>45.00000</td>\n",
       "      <td>10.000000</td>\n",
       "      <td>4100.000000</td>\n",
       "    </tr>\n",
       "  </tbody>\n",
       "</table>\n",
       "</div>"
      ]
     },
     "execution_count": 8,
     "metadata": {},
     "output_type": "execute_result"
    }
   ],
   "execution_count": 8
  },
  {
   "cell_type": "markdown",
   "id": "058094bb",
   "metadata": {},
   "source": [
    "# Lección 5: Data Wrangling"
   ]
  },
  {
   "cell_type": "code",
   "id": "e250e648",
   "metadata": {
    "ExecuteTime": {
     "end_time": "2025-07-06T19:20:44.042450Z",
     "start_time": "2025-07-06T19:20:44.032939Z"
    }
   },
   "source": [
    "df_limpio.drop_duplicates(inplace=True)\n",
    "df_limpio[\"ID\"] = df_limpio[\"ID\"].astype(str)\n",
    "df_limpio[\"Monto_Promedio\"] = df_limpio[\"Monto_Total\"] / df_limpio[\"Total_Compras\"]\n",
    "df_limpio[\"Monto_Normalizado\"] = (df_limpio[\"Monto_Total\"] - df_limpio[\"Monto_Total\"].min()) /                                   (df_limpio[\"Monto_Total\"].max() - df_limpio[\"Monto_Total\"].min())\n",
    "\n",
    "df_limpio.to_csv(\"dataset_transformado.csv\", index=False)\n",
    "df_limpio.head()"
   ],
   "outputs": [
    {
     "data": {
      "text/plain": [
       "  ID  Nombre  Edad        Ciudad  Total_Compras  Monto_Total  Monto_Promedio  \\\n",
       "0  1     Ana  25.0  Buenos Aires              5         2500           500.0   \n",
       "1  2    Luis  34.0       Córdoba              2         1200           600.0   \n",
       "2  3  Carlos  45.0       Rosario              0            0             NaN   \n",
       "3  4   Marta  29.0       Mendoza              3         1800           600.0   \n",
       "4  5   Jorge  31.0      La Plata              8         3200           400.0   \n",
       "\n",
       "   Monto_Normalizado  \n",
       "0           0.609756  \n",
       "1           0.292683  \n",
       "2           0.000000  \n",
       "3           0.439024  \n",
       "4           0.780488  "
      ],
      "text/html": [
       "<div>\n",
       "<style scoped>\n",
       "    .dataframe tbody tr th:only-of-type {\n",
       "        vertical-align: middle;\n",
       "    }\n",
       "\n",
       "    .dataframe tbody tr th {\n",
       "        vertical-align: top;\n",
       "    }\n",
       "\n",
       "    .dataframe thead th {\n",
       "        text-align: right;\n",
       "    }\n",
       "</style>\n",
       "<table border=\"1\" class=\"dataframe\">\n",
       "  <thead>\n",
       "    <tr style=\"text-align: right;\">\n",
       "      <th></th>\n",
       "      <th>ID</th>\n",
       "      <th>Nombre</th>\n",
       "      <th>Edad</th>\n",
       "      <th>Ciudad</th>\n",
       "      <th>Total_Compras</th>\n",
       "      <th>Monto_Total</th>\n",
       "      <th>Monto_Promedio</th>\n",
       "      <th>Monto_Normalizado</th>\n",
       "    </tr>\n",
       "  </thead>\n",
       "  <tbody>\n",
       "    <tr>\n",
       "      <th>0</th>\n",
       "      <td>1</td>\n",
       "      <td>Ana</td>\n",
       "      <td>25.0</td>\n",
       "      <td>Buenos Aires</td>\n",
       "      <td>5</td>\n",
       "      <td>2500</td>\n",
       "      <td>500.0</td>\n",
       "      <td>0.609756</td>\n",
       "    </tr>\n",
       "    <tr>\n",
       "      <th>1</th>\n",
       "      <td>2</td>\n",
       "      <td>Luis</td>\n",
       "      <td>34.0</td>\n",
       "      <td>Córdoba</td>\n",
       "      <td>2</td>\n",
       "      <td>1200</td>\n",
       "      <td>600.0</td>\n",
       "      <td>0.292683</td>\n",
       "    </tr>\n",
       "    <tr>\n",
       "      <th>2</th>\n",
       "      <td>3</td>\n",
       "      <td>Carlos</td>\n",
       "      <td>45.0</td>\n",
       "      <td>Rosario</td>\n",
       "      <td>0</td>\n",
       "      <td>0</td>\n",
       "      <td>NaN</td>\n",
       "      <td>0.000000</td>\n",
       "    </tr>\n",
       "    <tr>\n",
       "      <th>3</th>\n",
       "      <td>4</td>\n",
       "      <td>Marta</td>\n",
       "      <td>29.0</td>\n",
       "      <td>Mendoza</td>\n",
       "      <td>3</td>\n",
       "      <td>1800</td>\n",
       "      <td>600.0</td>\n",
       "      <td>0.439024</td>\n",
       "    </tr>\n",
       "    <tr>\n",
       "      <th>4</th>\n",
       "      <td>5</td>\n",
       "      <td>Jorge</td>\n",
       "      <td>31.0</td>\n",
       "      <td>La Plata</td>\n",
       "      <td>8</td>\n",
       "      <td>3200</td>\n",
       "      <td>400.0</td>\n",
       "      <td>0.780488</td>\n",
       "    </tr>\n",
       "  </tbody>\n",
       "</table>\n",
       "</div>"
      ]
     },
     "execution_count": 9,
     "metadata": {},
     "output_type": "execute_result"
    }
   ],
   "execution_count": 9
  },
  {
   "cell_type": "markdown",
   "id": "1eb64b1e",
   "metadata": {},
   "source": [
    "# Lección 6: Agrupamiento y Pivoteo"
   ]
  },
  {
   "cell_type": "code",
   "id": "2b063e7e",
   "metadata": {
    "ExecuteTime": {
     "end_time": "2025-07-06T19:21:01.348458Z",
     "start_time": "2025-07-06T19:21:01.329309Z"
    }
   },
   "source": [
    "df_grouped = df_limpio.groupby(\"Total_Compras\").agg({\n",
    "    \"Monto_Total\": [\"mean\", \"sum\"],\n",
    "    \"ID\": \"count\"\n",
    "}).reset_index()\n",
    "\n",
    "pivot = df_limpio.pivot_table(values=\"Monto_Total\", index=\"Total_Compras\", aggfunc=\"mean\")\n",
    "\n",
    "df_grouped.to_csv(\"agrupamiento.csv\", index=False)\n",
    "pivot.to_excel(\"pivot_resultado.xlsx\")\n",
    "df_limpio.to_csv(\"dataset_final.csv\", index=False)\n",
    "df_limpio.to_excel(\"dataset_final.xlsx\", index=False)\n"
   ],
   "outputs": [],
   "execution_count": 12
  }
 ],
 "metadata": {
  "kernelspec": {
   "name": "conda-base-py",
   "language": "python",
   "display_name": "Python [conda env:base] *"
  }
 },
 "nbformat": 4,
 "nbformat_minor": 5
}
